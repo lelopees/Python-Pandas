{
 "cells": [
  {
   "cell_type": "markdown",
   "metadata": {},
   "source": [
    "# pandas e csv\n",
    "\n",
    "## Resumo\n",
    "\n",
    "Quase sempre quando formos \"ler\" um arquivo csv, vamos usar o pandas. É prático e bem eficiente.\n",
    "\n",
    "## Funcionamento"
   ]
  },
  {
   "cell_type": "raw",
   "metadata": {},
   "source": [
    "Forma mais básica: (muitas vezes não usaremos a forma mais básica)\n",
    "dataframe = pd.read_csv(arquivo_com_extensao)"
   ]
  },
  {
   "cell_type": "markdown",
   "metadata": {},
   "source": [
    "- Vamos ler um arquivo real, com a Base de Dados de Vendas da Empresa \"Contoso\""
   ]
  },
  {
   "cell_type": "code",
   "execution_count": 2,
   "metadata": {},
   "outputs": [
    {
     "data": {
      "text/html": [
       "<div>\n",
       "<style scoped>\n",
       "    .dataframe tbody tr th:only-of-type {\n",
       "        vertical-align: middle;\n",
       "    }\n",
       "\n",
       "    .dataframe tbody tr th {\n",
       "        vertical-align: top;\n",
       "    }\n",
       "\n",
       "    .dataframe thead th {\n",
       "        text-align: right;\n",
       "    }\n",
       "</style>\n",
       "<table border=\"1\" class=\"dataframe\">\n",
       "  <thead>\n",
       "    <tr style=\"text-align: right;\">\n",
       "      <th></th>\n",
       "      <th>Numero da Venda</th>\n",
       "      <th>Data da Venda</th>\n",
       "      <th>Data do Envio</th>\n",
       "      <th>ID Canal</th>\n",
       "      <th>ID Loja</th>\n",
       "      <th>ID Produto</th>\n",
       "      <th>ID Promocao</th>\n",
       "      <th>ID Cliente</th>\n",
       "      <th>Quantidade Vendida</th>\n",
       "      <th>Quantidade Devolvida</th>\n",
       "    </tr>\n",
       "  </thead>\n",
       "  <tbody>\n",
       "    <tr>\n",
       "      <th>0</th>\n",
       "      <td>1</td>\n",
       "      <td>01/01/2017</td>\n",
       "      <td>02/01/2017</td>\n",
       "      <td>1</td>\n",
       "      <td>86</td>\n",
       "      <td>981</td>\n",
       "      <td>2</td>\n",
       "      <td>6825</td>\n",
       "      <td>9</td>\n",
       "      <td>1</td>\n",
       "    </tr>\n",
       "    <tr>\n",
       "      <th>1</th>\n",
       "      <td>2</td>\n",
       "      <td>01/01/2017</td>\n",
       "      <td>06/01/2017</td>\n",
       "      <td>5</td>\n",
       "      <td>308</td>\n",
       "      <td>1586</td>\n",
       "      <td>2</td>\n",
       "      <td>18469</td>\n",
       "      <td>9</td>\n",
       "      <td>1</td>\n",
       "    </tr>\n",
       "    <tr>\n",
       "      <th>2</th>\n",
       "      <td>3</td>\n",
       "      <td>01/01/2017</td>\n",
       "      <td>01/01/2017</td>\n",
       "      <td>0</td>\n",
       "      <td>294</td>\n",
       "      <td>1444</td>\n",
       "      <td>5</td>\n",
       "      <td>19730</td>\n",
       "      <td>13</td>\n",
       "      <td>1</td>\n",
       "    </tr>\n",
       "  </tbody>\n",
       "</table>\n",
       "</div>"
      ],
      "text/plain": [
       "   Numero da Venda Data da Venda Data do Envio  ID Canal  ID Loja  ID Produto  \\\n",
       "0                1    01/01/2017    02/01/2017         1       86         981   \n",
       "1                2    01/01/2017    06/01/2017         5      308        1586   \n",
       "2                3    01/01/2017    01/01/2017         0      294        1444   \n",
       "\n",
       "   ID Promocao  ID Cliente  Quantidade Vendida  Quantidade Devolvida  \n",
       "0            2        6825                   9                     1  \n",
       "1            2       18469                   9                     1  \n",
       "2            5       19730                  13                     1  "
      ]
     },
     "execution_count": 2,
     "metadata": {},
     "output_type": "execute_result"
    }
   ],
   "source": [
    "import pandas as pd\n",
    "\n",
    "vendas_df = pd.read_csv(r'Contoso - Vendas  - 2017.csv', sep=';')\n",
    "\n",
    "\n"
   ]
  },
  {
   "cell_type": "code",
   "execution_count": null,
   "metadata": {},
   "outputs": [],
   "source": []
  }
 ],
 "metadata": {
  "kernelspec": {
   "display_name": "Python 3 (ipykernel)",
   "language": "python",
   "name": "python3"
  },
  "language_info": {
   "codemirror_mode": {
    "name": "ipython",
    "version": 3
   },
   "file_extension": ".py",
   "mimetype": "text/x-python",
   "name": "python",
   "nbconvert_exporter": "python",
   "pygments_lexer": "ipython3",
   "version": "3.9.7"
  }
 },
 "nbformat": 4,
 "nbformat_minor": 4
}
